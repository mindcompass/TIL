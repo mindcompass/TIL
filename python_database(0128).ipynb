{
 "cells": [
  {
   "cell_type": "code",
   "execution_count": 8,
   "metadata": {},
   "outputs": [],
   "source": [
    "#연습문제 11-1\n",
    "import pymysql\n",
    "\n",
    "conn = pymysql.connect (\n",
    "    host = 'localhost',\n",
    "    user = 'root',\n",
    "    password = '1234',\n",
    "    db = 'pythondb',\n",
    "    charset = 'utf8')\n",
    "\n",
    "cursor = conn.cursor()\n",
    "\n",
    "sql = '''CREATE TABLE member (\n",
    "            NUM INTEGER PRIMARY KEY AUTO_INCREMENT,\n",
    "            NAME VARCHAR(30),\n",
    "            EMAIL VARCHAR(30),\n",
    "            C_DATE DATETIME)'''\n",
    "cursor.execute(sql)\n",
    "\n",
    "conn.commit()\n",
    "\n",
    "cursor.close()\n",
    "conn.close()"
   ]
  },
  {
   "cell_type": "code",
   "execution_count": 9,
   "metadata": {},
   "outputs": [],
   "source": [
    "#연습문제 11-1\n",
    "import pymysql\n",
    "\n",
    "conn = pymysql.connect (\n",
    "    host = 'localhost',\n",
    "    user = 'root',\n",
    "    password = '1234',\n",
    "    db = 'pythondb',\n",
    "    charset = 'utf8')\n",
    "\n",
    "cursor = conn.cursor()\n",
    "\n",
    "sql = '''CREATE TABLE article (\n",
    "            ID INTEGER PRIMARY KEY AUTO_INCREMENT,\n",
    "            TITLE VARCHAR(30),\n",
    "            CONTENT VARCHAR(30),\n",
    "            WRITER VARCHAR(30),\n",
    "            HIT INTEGER,\n",
    "            C_DATE DATETIME)'''\n",
    "cursor.execute(sql)\n",
    "\n",
    "conn.commit()\n",
    "\n",
    "cursor.close()\n",
    "conn.close()"
   ]
  },
  {
   "cell_type": "code",
   "execution_count": 10,
   "metadata": {},
   "outputs": [],
   "source": [
    "#연습문제 11-2-1\n",
    "import pymysql\n",
    "\n",
    "conn = pymysql.connect (\n",
    "    host = 'localhost',\n",
    "    user = 'root',\n",
    "    password = '1234',\n",
    "    db = 'pythondb',\n",
    "    charset = 'utf8')\n",
    "\n",
    "cursor = conn.cursor()\n",
    "\n",
    "sql = '''INSERT INTO member (NUM, NAME, EMAIL, C_DATE)\n",
    "            VALUES (NULL, %s, %s, now());'''\n",
    "cursor.execute(sql, ('a', 'a@a.com'))\n",
    "\n",
    "conn.commit()\n",
    "\n",
    "cursor.close()\n",
    "conn.close()"
   ]
  },
  {
   "cell_type": "code",
   "execution_count": 12,
   "metadata": {},
   "outputs": [],
   "source": [
    "#연습문제 11-2-2\n",
    "import pymysql\n",
    "\n",
    "conn = pymysql.connect (\n",
    "    host = 'localhost',\n",
    "    user = 'root',\n",
    "    password = '1234',\n",
    "    db = 'pythondb',\n",
    "    charset = 'utf8')\n",
    "\n",
    "cursor = conn.cursor()\n",
    "\n",
    "sql = '''INSERT INTO article (ID, TITLE, CONTENT, WRITER, HIT, C_DATE)\n",
    "            VALUES (null, %s, %s, %s, 0, now());'''\n",
    "cursor.execute(sql, ('제목', '내용', '파이썬'))\n",
    "\n",
    "conn.commit()\n",
    "\n",
    "cursor.close()\n",
    "conn.close()"
   ]
  },
  {
   "cell_type": "code",
   "execution_count": 13,
   "metadata": {},
   "outputs": [],
   "source": [
    "#11-3-1\n",
    "import pymysql\n",
    "\n",
    "conn = pymysql.connect (\n",
    "    host = 'localhost',\n",
    "    user = 'root',\n",
    "    password = '1234',\n",
    "    db = 'pythondb',\n",
    "    charset = 'utf8')\n",
    "\n",
    "cursor = conn.cursor()\n",
    "\n",
    "sql = '''UPDATE member SET\n",
    "         NAME = %s, EMAIL = %s\n",
    "         WHERE NUM = %s'''\n",
    "cursor.execute(sql, ('aa', 'aa@aa.com', 1))\n",
    "\n",
    "conn.commit()\n",
    "\n",
    "cursor.close()\n",
    "conn.close()"
   ]
  },
  {
   "cell_type": "code",
   "execution_count": 14,
   "metadata": {},
   "outputs": [],
   "source": [
    "#11-3-2\n",
    "import pymysql\n",
    "\n",
    "conn = pymysql.connect (\n",
    "    host = 'localhost',\n",
    "    user = 'root',\n",
    "    password = '1234',\n",
    "    db = 'pythondb',\n",
    "    charset = 'utf8')\n",
    "\n",
    "cursor = conn.cursor(pymysql.cursors.DictCursor)\n",
    "\n",
    "sql = '''UPDATE article SET\n",
    "         TITLE = %s, CONTENT = %s, HIT = %s\n",
    "         WHERE ID = %s'''\n",
    "cursor.execute(sql, ('제목수정', '내용수정', 100, 1))\n",
    "\n",
    "conn.commit()\n",
    "\n",
    "cursor.close()\n",
    "conn.close()"
   ]
  },
  {
   "cell_type": "code",
   "execution_count": 17,
   "metadata": {},
   "outputs": [],
   "source": [
    "#11-4-1\n",
    "import pymysql\n",
    "\n",
    "conn = pymysql.connect (\n",
    "    host = 'localhost',\n",
    "    user = 'root',\n",
    "    password = '1234',\n",
    "    db = 'pythondb',\n",
    "    charset = 'utf8')\n",
    "\n",
    "cursor = conn.cursor()\n",
    "\n",
    "sql = '''DELETE FROM MEMBER\n",
    "            WHERE NUM= %s '''\n",
    "cursor.execute(sql,1)\n",
    "\n",
    "conn.commit()\n",
    "\n",
    "cursor.close()\n",
    "conn.close()"
   ]
  },
  {
   "cell_type": "code",
   "execution_count": 19,
   "metadata": {},
   "outputs": [],
   "source": [
    "#11-4-2\n",
    "import pymysql\n",
    "\n",
    "conn = pymysql.connect (\n",
    "    host = 'localhost',\n",
    "    user = 'root',\n",
    "    password = '1234',\n",
    "    db = 'pythondb',\n",
    "    charset = 'utf8')\n",
    "\n",
    "cursor = conn.cursor()\n",
    "\n",
    "sql = '''DELETE FROM ARTICLE'''\n",
    "cursor.execute(sql)\n",
    "\n",
    "conn.commit()\n",
    "\n",
    "cursor.close()\n",
    "conn.close()"
   ]
  },
  {
   "cell_type": "code",
   "execution_count": 26,
   "metadata": {},
   "outputs": [
    {
     "name": "stdout",
     "output_type": "stream",
     "text": [
      "원하는 페이지 번호를 입력해주세요.2\n",
      "<class 'str'>\n",
      "4\n",
      "7876 ADAMS\n",
      "7900 JAMES\n",
      "7902 FORD\n",
      "7934 MILLER\n"
     ]
    }
   ],
   "source": [
    "import pymysql\n",
    "\n",
    "page_num = input('원하는 페이지 번호를 입력해주세요.')\n",
    "print(type(page_num))\n",
    "page_num =int(page_num)\n",
    "end_num = page_num*10\n",
    "start_num = end_num-9\n",
    "\n",
    "conn = pymysql.connect (\n",
    "    host = 'localhost',\n",
    "    user = 'root',\n",
    "    password = '1234',\n",
    "    db = 'mydb',\n",
    "    charset = 'utf8')\n",
    "\n",
    "cursor = conn.cursor(pymysql.cursors.DictCursor)\n",
    "\n",
    "\n",
    "sql = '''SELECT * \n",
    "            FROM EMP\n",
    "            LIMIT %s, 10'''\n",
    "cursor.execute(sql, (start_num-1)) # mysql에서는 o번부터 시작하기 때문에 1을 빼줘야 함\n",
    "result =cursor.fetchall()\n",
    "\n",
    "print(len(result))\n",
    "\n",
    "for row in result:\n",
    "    print(row['EMPNO'], row['ENAME'])\n",
    "\n",
    "conn.commit()\n",
    "\n",
    "cursor.close()\n",
    "conn.close()\n"
   ]
  },
  {
   "cell_type": "code",
   "execution_count": 53,
   "metadata": {},
   "outputs": [
    {
     "name": "stdout",
     "output_type": "stream",
     "text": [
      "201 제목100 a@a.com 2020-01-28 14:30:13 \n",
      "200 제목99 a@a.com 2020-01-28 14:30:13 \n",
      "199 제목98 a@a.com 2020-01-28 14:30:13 \n",
      "198 제목97 a@a.com 2020-01-28 14:30:13 \n",
      "197 제목96 a@a.com 2020-01-28 14:30:13 \n"
     ]
    }
   ],
   "source": [
    "#11-5-1 for문 활용 MEMBER \n",
    "import pymysql\n",
    "def insert(sql, data):\n",
    "    cursor.execute(sql, data)\n",
    "conn = pymysql.connect(\n",
    " host='localhost', user='root', password='1234',\n",
    " db='pythondb', charset='utf8')\n",
    "cursor = conn.cursor()\n",
    "# 데이터 100개 입력\n",
    "sql = '''INSERT INTO MEMBER\n",
    " (NUM, NAME, EMAIL, C_DATE)\n",
    " VALUES (NULL, %s, %s, NOW())'''\n",
    "for i in range(1, 101):\n",
    "    insert(sql, ('제목' + str(i), 'a@a.com'))\n",
    "conn.commit()\n",
    "sql = '''SELECT * FROM MEMBER\n",
    "            ORDER BY NUM DESC\n",
    "            LIMIT 0,5'''\n",
    "cursor.execute(sql) # mysql에서는 o번부터 시작하기 때문에 1을 빼줘야 함\n",
    "result =cursor.fetchall()\n",
    "\n",
    "for row in result:\n",
    "    for col in row:\n",
    "        print(col, end=' ')\n",
    "    print()\n",
    "#     print(row['NUM'], row['NAME'],row['EMAIL'],row['C_DATE'])\n",
    "\n",
    "\n",
    "\n",
    "cursor.close()\n",
    "conn.close()"
   ]
  },
  {
   "cell_type": "code",
   "execution_count": 54,
   "metadata": {},
   "outputs": [
    {
     "name": "stdout",
     "output_type": "stream",
     "text": [
      "202 제목100 내용100 파이썬 0 2020-01-28 14:32:45 \n",
      "201 제목99 내용99 파이썬 0 2020-01-28 14:32:45 \n",
      "200 제목98 내용98 파이썬 0 2020-01-28 14:32:45 \n",
      "199 제목97 내용97 파이썬 0 2020-01-28 14:32:45 \n",
      "198 제목96 내용96 파이썬 0 2020-01-28 14:32:45 \n"
     ]
    }
   ],
   "source": [
    "#11-5-2 for문 활용 Article\n",
    "import pymysql\n",
    "def insert(sql, data):\n",
    "    cursor.execute(sql, data)\n",
    "\n",
    "conn = pymysql.connect(\n",
    "host='localhost', user='root', password='1234',\n",
    "db='pythondb', charset='utf8')\n",
    "cursor = conn.cursor()\n",
    "# 데이터 100개 입력\n",
    "sql = '''INSERT INTO ARTICLE\n",
    " (ID, TITLE, CONTENT, WRITER, HIT, C_DATE)\n",
    " VALUES (NULL, %s, %s, %s, 0, NOW())'''\n",
    "# 데이터 100개 입력\n",
    "for i in range(1, 101):\n",
    "    insert(sql, ('제목' + str(i), '내용' + str(i), '파이썬'))\n",
    "\n",
    "conn.commit()\n",
    "sql = '''SELECT * FROM ARTICLE\n",
    "            ORDER BY ID DESC\n",
    "            LIMIT 0,5'''\n",
    "cursor.execute(sql) \n",
    "result =cursor.fetchall()\n",
    "\n",
    "for row in result:\n",
    "    for col in row:\n",
    "        print(col, end=' ')\n",
    "    print()\n",
    "\n",
    "cursor.close()\n",
    "conn.close()\n",
    "\n"
   ]
  },
  {
   "cell_type": "code",
   "execution_count": 35,
   "metadata": {},
   "outputs": [
    {
     "name": "stdout",
     "output_type": "stream",
     "text": [
      "800 속씨원한대구탕 24시간 속을 시원하게 풀어주는 대구탕 전문점 연중무휴 주차가능 /save_img/shop_img/24f761ee-3bdc-4f89-a9c6-0f90ecc69a8b.jpg \n",
      "808 신기산업 영도 앞바다가 한 눈에 들어오는 카페 연중무휴 주차가능 /save_img/shop_img/c6890c3b-88b4-49a8-8ed4-db7bde14f78c.jpg \n"
     ]
    }
   ],
   "source": [
    "##연습문제 11-6-1\n",
    "\n",
    "import pymysql\n",
    "\n",
    "conn = pymysql.connect(\n",
    "host='localhost', user='root', password='1234',\n",
    "db='pythondb', charset='utf8')\n",
    "cursor = conn.cursor()\n",
    "\n",
    "\n",
    "sql = '''SELECT * FROM SHOP\n",
    "            WHERE REST_DATE = %s \n",
    "             AND PARKING_INFO =%s'''\n",
    "\n",
    "cursor.execute(sql,('연중무휴','주차가능') )\n",
    "result =cursor.fetchall()\n",
    "\n",
    "for row in result:\n",
    "    for col in row:\n",
    "        print(col, end=' ')\n",
    "    print()\n",
    "\n",
    "\n",
    "cursor.close()\n",
    "conn.close()"
   ]
  },
  {
   "cell_type": "code",
   "execution_count": 52,
   "metadata": {},
   "outputs": [
    {
     "name": "stdout",
     "output_type": "stream",
     "text": [
      "751111-*******\n",
      "a 일길동 751111-*******\n",
      "761111-*******\n",
      "b 이길동 761111-*******\n",
      "771111-*******\n",
      "c 삼길동 771111-*******\n",
      "781111-*******\n",
      "d 사길동 781111-*******\n",
      "791111-*******\n",
      "e 오길동 791111-*******\n",
      "801111-*******\n",
      "f 육길동 801111-*******\n",
      "811111-*******\n",
      "g 칠길동 811111-*******\n"
     ]
    }
   ],
   "source": [
    "##연습문제 11-6-2\n",
    "import pymysql\n",
    "\n",
    "conn = pymysql.connect(\n",
    "host='localhost', user='root', password='1234',\n",
    "db='pythondb', charset='utf8')\n",
    "cursor = conn.cursor()\n",
    "\n",
    "\n",
    "sql = '''SELECT * FROM info'''\n",
    "\n",
    "cursor.execute(sql) \n",
    "\n",
    "result =cursor.fetchall()\n",
    "\n",
    "import re \n",
    "pat = re.compile('(\\d{6}-)\\d{7}')\n",
    "\n",
    "for row in result:\n",
    "    print(row[2][:row[2].find('-')] + '-'+'*'*7)\n",
    "    print(row[0], row[1], pat.sub('\\g<1>*******', row[2]))\n",
    "\n",
    "\n",
    "conn.commit()\n",
    "cursor.close()\n",
    "conn.close()"
   ]
  },
  {
   "cell_type": "code",
   "execution_count": 1,
   "metadata": {},
   "outputs": [],
   "source": [
    "from pymongo import MongoClient"
   ]
  },
  {
   "cell_type": "code",
   "execution_count": 2,
   "metadata": {},
   "outputs": [],
   "source": [
    "client = MongoClient(host='localhost', port=27017)"
   ]
  },
  {
   "cell_type": "code",
   "execution_count": 3,
   "metadata": {},
   "outputs": [],
   "source": [
    "db = client['test']"
   ]
  },
  {
   "cell_type": "code",
   "execution_count": 4,
   "metadata": {},
   "outputs": [],
   "source": [
    "cursor = db.score.find()"
   ]
  },
  {
   "cell_type": "code",
   "execution_count": 7,
   "metadata": {},
   "outputs": [
    {
     "name": "stdout",
     "output_type": "stream",
     "text": [
      "99.0\n",
      "0.0\n",
      "1.0\n",
      "2.0\n",
      "3.0\n",
      "4.0\n",
      "0.0\n",
      "1.0\n",
      "2.0\n",
      "3.0\n",
      "4.0\n",
      "0.0\n",
      "1.0\n",
      "2.0\n",
      "3.0\n",
      "4.0\n",
      "5\n"
     ]
    }
   ],
   "source": [
    "cursor.rewind() #다시 순서 (화살표)을 처음으로 하기 위해서 아니면 find()를 다시해야 함\n",
    "for data in list(cursor):\n",
    "    print(data['a'])"
   ]
  },
  {
   "cell_type": "code",
   "execution_count": 6,
   "metadata": {},
   "outputs": [
    {
     "name": "stderr",
     "output_type": "stream",
     "text": [
      "C:\\Users\\student\\Miniconda3\\lib\\site-packages\\ipykernel_launcher.py:1: DeprecationWarning: save is deprecated. Use insert_one or replace_one instead\n",
      "  \"\"\"Entry point for launching an IPython kernel.\n"
     ]
    },
    {
     "data": {
      "text/plain": [
       "ObjectId('5e2ff203e1ba1f70b0de0633')"
      ]
     },
     "execution_count": 6,
     "metadata": {},
     "output_type": "execute_result"
    }
   ],
   "source": [
    "db.score.save({'a':5, 'exam' : 6})"
   ]
  },
  {
   "cell_type": "code",
   "execution_count": 8,
   "metadata": {},
   "outputs": [
    {
     "name": "stderr",
     "output_type": "stream",
     "text": [
      "C:\\Users\\student\\Miniconda3\\lib\\site-packages\\ipykernel_launcher.py:1: DeprecationWarning: update is deprecated. Use replace_one, update_one or update_many instead.\n",
      "  \"\"\"Entry point for launching an IPython kernel.\n"
     ]
    },
    {
     "data": {
      "text/plain": [
       "{'n': 1, 'nModified': 1, 'ok': 1.0, 'updatedExisting': True}"
      ]
     },
     "execution_count": 8,
     "metadata": {},
     "output_type": "execute_result"
    }
   ],
   "source": [
    "db.score.update( { 'a' : 5 }, { '$set' : { 'exam' : 10 } } )\n"
   ]
  },
  {
   "cell_type": "code",
   "execution_count": 10,
   "metadata": {},
   "outputs": [
    {
     "name": "stdout",
     "output_type": "stream",
     "text": [
      "{'_id': ObjectId('5e2fd57f228951749a0b5e20'), 'a': 99.0}\n",
      "{'_id': ObjectId('5e2fd604228951749a0b5e21'), 'a': 0.0, 'exam': 5.0}\n",
      "{'_id': ObjectId('5e2fd604228951749a0b5e22'), 'a': 1.0, 'exam': 5.0}\n",
      "{'_id': ObjectId('5e2fd604228951749a0b5e23'), 'a': 2.0, 'exam': 5.0}\n",
      "{'_id': ObjectId('5e2fd604228951749a0b5e24'), 'a': 3.0, 'exam': 5.0}\n",
      "{'_id': ObjectId('5e2fd604228951749a0b5e25'), 'a': 4.0, 'exam': 5.0}\n",
      "{'_id': ObjectId('5e2fda73228951749a0b5e26'), 'a': 0.0, 'exam': 5.0}\n",
      "{'_id': ObjectId('5e2fda73228951749a0b5e27'), 'a': 1.0, 'exam': 5.0}\n",
      "{'_id': ObjectId('5e2fda73228951749a0b5e28'), 'a': 2.0, 'exam': 5.0}\n",
      "{'_id': ObjectId('5e2fda73228951749a0b5e29'), 'a': 3.0, 'exam': 5.0}\n",
      "{'_id': ObjectId('5e2fda73228951749a0b5e2a'), 'a': 4.0, 'exam': 5.0}\n",
      "{'_id': ObjectId('5e2fda81228951749a0b5e2b'), 'a': 0.0, 'exam': 6.0}\n",
      "{'_id': ObjectId('5e2fda81228951749a0b5e2c'), 'a': 1.0, 'exam': 6.0}\n",
      "{'_id': ObjectId('5e2fda81228951749a0b5e2d'), 'a': 2.0, 'exam': 6.0}\n",
      "{'_id': ObjectId('5e2fda81228951749a0b5e2e'), 'a': 3.0, 'exam': 6.0}\n",
      "{'_id': ObjectId('5e2fda81228951749a0b5e2f'), 'a': 4.0, 'exam': 6.0}\n",
      "{'_id': ObjectId('5e2ff203e1ba1f70b0de0633'), 'a': 5, 'exam': 10}\n"
     ]
    }
   ],
   "source": [
    "cursor.rewind()\n",
    "for data in list(cursor):\n",
    "    print(data)"
   ]
  },
  {
   "cell_type": "code",
   "execution_count": 23,
   "metadata": {},
   "outputs": [],
   "source": [
    "from selenium import webdriver as wd\n",
    "driver = wd.Chrome(executable_path='chromedriver.exe')\n",
    "from selenium.webdriver.common.by import By\n",
    "from selenium.webdriver.support.ui import WebDriverWait\n",
    "from selenium.webdriver.support import expected_conditions as EC\n",
    "import time\n",
    "\n",
    "cursor = db.tour.find()\n",
    "\n",
    "driver.get('http://tour.interpark.com')\n",
    "driver.implicitly_wait(10)\n",
    "driver.find_element_by_id('SearchGNBText').send_keys('달랏')\n",
    "driver.find_element_by_css_selector('button.search-btn').click()\n",
    "WebDriverWait(driver, 10).until(\n",
    "    EC.presence_of_element_located((By.CLASS_NAME, 'oTravelBox'))\n",
    "    )\n",
    "driver.find_element_by_css_selector('.oTravelBox .moreBtn').click()"
   ]
  },
  {
   "cell_type": "code",
   "execution_count": 15,
   "metadata": {
    "collapsed": true
   },
   "outputs": [
    {
     "name": "stdout",
     "output_type": "stream",
     "text": [
      "이미지 http://tourimage.interpark.com/product/tour/00161/A10/280/A1031420_1_027.jpg\n",
      "링크 searchModule.OnClickDetail('http://tour.interpark.com/goods/detail/?BaseGoodsCd=A1031420','')\n",
      "상품명 [달랏4일] 낭만도시 달랏 직항+랑비앙 포함 3박4일\n",
      "추가설명 ★직항 취항 기념 초특가★\n",
      "가격 365,000 원~\n",
      "여행 기간 : 3박4일\n",
      "출발 가능 기간 : 2020.01.29~2020.05.03\n",
      "평점 0.0\n",
      "0개의 상품평\n",
      "====================\n",
      "이미지 http://tourimage.interpark.com/product/tour/00161/A10/280/A1024924_1_620.jpg\n",
      "링크 searchModule.OnClickDetail('http://tour.interpark.com/goods/detail/?BaseGoodsCd=A1024924','')\n",
      "상품명 [나트랑/달랏5일] 시원한 낭만도시 랑비앙관광 5일\n",
      "추가설명 ★떠오르는 베트남 인생여행지★\n",
      "가격 434,700 원~\n",
      "여행 기간 : 3박5일\n",
      "출발 가능 기간 : 2020.01.28~2020.06.30\n",
      "평점 10.0\n",
      "1개의 상품평\n",
      "====================\n",
      "이미지 http://tourimage.interpark.com/product/tour/00161/A10/280/A1025044_3_337.jpg\n",
      "링크 searchModule.OnClickDetail('http://tour.interpark.com/goods/detail/?BaseGoodsCd=A1025044','')\n",
      "상품명 [대구출발_나트랑5일] 지금 핫한 그곳! 아름다운 나트랑/달랏 관광\n",
      "추가설명 머드온천&나트랑 시내관광 포함-동양의 나폴리 나트랑&달랏여행♥\n",
      "가격 499,000 원~\n",
      "여행 기간 : 3박5일\n",
      "출발 가능 기간 : 2020.01.28~2020.03.28\n",
      "평점 0.0\n",
      "0개의 상품평\n",
      "====================\n",
      "이미지 http://tourimage.interpark.com/product/tour/00161/A10/280/A1031349_1_470.jpg\n",
      "링크 searchModule.OnClickDetail('http://tour.interpark.com/goods/detail/?BaseGoodsCd=A1031349','')\n",
      "상품명 [나트랑 5일★연합] 나트랑 1박/ 달랏 2박 꽉찬 관광일정\n",
      "추가설명 신규취항★뱀부항공/기내식제공/수하물20KG\n",
      "가격 349,000 원~\n",
      "여행 기간 : 3박5일\n",
      "출발 가능 기간 : 2020.01.28~2020.03.28\n",
      "평점 10.0\n",
      "1개의 상품평\n",
      "====================\n",
      "이미지 http://img.modetour.com/eagle/photoimg/42164/bfile/636724338253061415.JPG\n",
      "링크 searchModule.OnClickDetail('http://tour.interpark.com/goods/detail/?BaseGoodsCd=A1023759','')\n",
      "상품명 *출발확정*[관광형] 나트랑x달랏 3박5일 [4성(1박)+달랏(2박)]\n",
      "추가설명 최대 7만원 쿠폰할인 (출발일 2020.01.01~2020.03.31)\n",
      "가격 405,000 원~\n",
      "여행 기간 : 3박5일\n",
      "출발 가능 기간 : 2020.01.28~2020.07.31\n",
      "평점 6.3\n",
      "2개의 상품평\n",
      "====================\n",
      "이미지 http://tourimage.interpark.com/product/tour/00161/A10/280/A1025396_7_460.jpg\n",
      "링크 searchModule.OnClickDetail('http://tour.interpark.com/goods/detail/?BaseGoodsCd=A1025396','')\n",
      "상품명 [부산출발_나트랑5일] 떠오르는 여행지 나트랑 + 봄의 도시 달랏을 동시에!! 실속 관광형\n",
      "추가설명 전 일전 준특급호텔 + 아름다운 나트랑 달랏 관광♡\n",
      "가격 499,000 원~\n",
      "여행 기간 : 3박5일\n",
      "출발 가능 기간 : 2020.01.28~2020.03.31\n",
      "평점 4.0\n",
      "1개의 상품평\n",
      "====================\n",
      "이미지 http://img.modetour.com/eagle/photoimg/59122/bfile/636724338211701392.JPG\n",
      "링크 searchModule.OnClickDetail('http://tour.interpark.com/goods/detail/?BaseGoodsCd=A1031529','')\n",
      "상품명 [영원한봄의도시] 달랏 패키지 3박4일 [5성호텔]\n",
      "추가설명 \n",
      "가격 471,000 원~\n",
      "여행 기간 : 3박4일\n",
      "출발 가능 기간 : 2020.01.29~2020.06.28\n",
      "평점 0.0\n",
      "0개의 상품평\n",
      "====================\n",
      "이미지 http://img.modetour.com/eagle/photoimg/42164/bfile/636724338249268660.JPG\n",
      "링크 searchModule.OnClickDetail('http://tour.interpark.com/goods/detail/?BaseGoodsCd=A1025809','')\n",
      "상품명 *출발확정*[증편기][관광형] 나트랑x달랏 3박5일 [4성(1박)+달랏(2박)]\n",
      "추가설명 \n",
      "가격 352,000 원~\n",
      "여행 기간 : 3박4일\n",
      "출발 가능 기간 : 2020.01.28~2020.07.31\n",
      "평점 0.0\n",
      "0개의 상품평\n",
      "====================\n",
      "이미지 http://img.modetour.com/eagle/photoimg/42171/bfile/636724338177366577.JPG\n",
      "링크 searchModule.OnClickDetail('http://tour.interpark.com/goods/detail/?BaseGoodsCd=A1025810','')\n",
      "상품명 [증편기][관광형] 나트랑x달랏 3박5일 [5성(1박)+달랏(2박)]\n",
      "추가설명 \n",
      "가격 405,000 원~\n",
      "여행 기간 : 3박4일\n",
      "출발 가능 기간 : 2020.01.28~2020.07.31\n",
      "평점 10.0\n",
      "1개의 상품평\n",
      "====================\n",
      "이미지 http://img.modetour.com/eagle/photoimg/56584/bfile/636453195339574051.JPG\n",
      "링크 searchModule.OnClickDetail('http://tour.interpark.com/goods/detail/?BaseGoodsCd=Q1011029','')\n",
      "상품명 ●연중 봄의 도시, 달랏● [5성호텔] 달랏 3색 골프(54홀) + 관광 3박 5일\n",
      "추가설명 \n",
      "가격 1,480,000 원~\n",
      "여행 기간 : 3박5일\n",
      "출발 가능 기간 : 2020.01.28~2020.06.27\n",
      "평점 0.0\n",
      "0개의 상품평\n",
      "====================\n"
     ]
    }
   ],
   "source": [
    "for page in range(1, 2):\n",
    "    driver.execute_script(\"searchModule.SetCategoryList(%s, '')\" % page)\n",
    "    time.sleep(2)\n",
    "    boxItems = driver.find_elements_by_css_selector(\n",
    "        '.panelZone > .oTravelBox > .boxList > li')\n",
    "for li in boxItems:\n",
    "    db.score.save({'a':5, 'exam' : 6})\n",
    "    \n",
    "    \n",
    "    print('이미지', li.find_element_by_css_selector('img.img').get_attribute('src'))\n",
    "    print('링크', li.find_element_by_css_selector('a').get_attribute('onclick'))\n",
    "    print('상품명', li.find_element_by_css_selector('h5.proTit').text)\n",
    "    print('추가설명', li.find_element_by_css_selector('.proSub').text)\n",
    "    print('가격', li.find_element_by_css_selector('strong.proPrice').text)\n",
    "    for info in li.find_elements_by_css_selector('.info-row .proInfo'):\n",
    "        print(info.text)\n",
    "    print('=' * 20)\n",
    "driver.close()"
   ]
  },
  {
   "cell_type": "code",
   "execution_count": 21,
   "metadata": {},
   "outputs": [
    {
     "name": "stdout",
     "output_type": "stream",
     "text": [
      "[<selenium.webdriver.remote.webelement.WebElement (session=\"d16c7349409f0c0ab4ad18e0e7871b0f\", element=\"77a286fd-b46a-4f74-a14f-77c1b6f843e8\")>, <selenium.webdriver.remote.webelement.WebElement (session=\"d16c7349409f0c0ab4ad18e0e7871b0f\", element=\"0fbc525d-6073-40f7-9ab1-4b2052bb1d4a\")>, <selenium.webdriver.remote.webelement.WebElement (session=\"d16c7349409f0c0ab4ad18e0e7871b0f\", element=\"61464089-92f2-4220-85d6-2f8cf3327224\")>, <selenium.webdriver.remote.webelement.WebElement (session=\"d16c7349409f0c0ab4ad18e0e7871b0f\", element=\"0aa412c2-bbae-4363-9f3f-eb714a97c81c\")>, <selenium.webdriver.remote.webelement.WebElement (session=\"d16c7349409f0c0ab4ad18e0e7871b0f\", element=\"3190967e-7279-4319-8eee-dc0163dd6847\")>, <selenium.webdriver.remote.webelement.WebElement (session=\"d16c7349409f0c0ab4ad18e0e7871b0f\", element=\"5e77ded1-1fbb-4c6c-b3a5-979bd9703ba9\")>, <selenium.webdriver.remote.webelement.WebElement (session=\"d16c7349409f0c0ab4ad18e0e7871b0f\", element=\"96b0fa8d-630a-499f-8a2c-d3c26b17a41e\")>, <selenium.webdriver.remote.webelement.WebElement (session=\"d16c7349409f0c0ab4ad18e0e7871b0f\", element=\"e3f92fff-3f24-4756-9a69-a3f94f22e387\")>, <selenium.webdriver.remote.webelement.WebElement (session=\"d16c7349409f0c0ab4ad18e0e7871b0f\", element=\"a09c67b7-8bff-4074-889b-76f975327d8e\")>, <selenium.webdriver.remote.webelement.WebElement (session=\"d16c7349409f0c0ab4ad18e0e7871b0f\", element=\"7d28125b-18b3-4a2c-8eff-942c0c1fbde5\")>]\n"
     ]
    }
   ],
   "source": [
    "print(boxItems)"
   ]
  },
  {
   "cell_type": "code",
   "execution_count": 30,
   "metadata": {},
   "outputs": [
    {
     "name": "stderr",
     "output_type": "stream",
     "text": [
      "C:\\Users\\student\\Miniconda3\\lib\\site-packages\\ipykernel_launcher.py:14: DeprecationWarning: save is deprecated. Use insert_one or replace_one instead\n",
      "  \n"
     ]
    }
   ],
   "source": [
    "cursor.rewind()\n",
    "for page in range(1, 2):\n",
    "    driver.execute_script(\"searchModule.SetCategoryList(%s, '')\" % page)\n",
    "    time.sleep(2)\n",
    "    boxItems = driver.find_elements_by_css_selector(\n",
    "        '.panelZone > .oTravelBox > .boxList > li')\n",
    "\n",
    "for li in boxItems:\n",
    "    db.tour.save(\n",
    "        {'이미지':li.find_element_by_css_selector('img.img').get_attribute('src'), \n",
    "         '링크' : li.find_element_by_css_selector('a').get_attribute('onclick'), \n",
    "         '상품명': li.find_element_by_css_selector('h5.proTit').text ,\n",
    "         '추가설명': li.find_element_by_css_selector('.proSub').text,\n",
    "         \"가격\": li.find_element_by_css_selector('strong.proPrice').text })\n",
    "    "
   ]
  },
  {
   "cell_type": "code",
   "execution_count": 31,
   "metadata": {},
   "outputs": [
    {
     "data": {
      "text/plain": [
       "<pymongo.cursor.Cursor at 0x1f8ab0d1e88>"
      ]
     },
     "execution_count": 31,
     "metadata": {},
     "output_type": "execute_result"
    }
   ],
   "source": [
    "\n",
    "db.tour.find()"
   ]
  },
  {
   "cell_type": "code",
   "execution_count": null,
   "metadata": {},
   "outputs": [],
   "source": [
    "##스터디 01/28\n"
   ]
  },
  {
   "cell_type": "code",
   "execution_count": 42,
   "metadata": {},
   "outputs": [],
   "source": [
    "scores=[100,100,50,40,40,20,10]\n",
    "alice=[5,25,50,120]\n",
    "scores_1=list(set(scores))\n"
   ]
  },
  {
   "cell_type": "code",
   "execution_count": 58,
   "metadata": {},
   "outputs": [
    {
     "name": "stdout",
     "output_type": "stream",
     "text": [
      "6\n",
      "4\n",
      "2\n",
      "1\n"
     ]
    }
   ],
   "source": [
    "for i in alice:\n",
    "    scores_1=list(set(scores))\n",
    "    scores_1.append(i)\n",
    "    \n",
    "    scores_1.sort(reverse=True)\n",
    "    print(scores_1.index(i)+1)"
   ]
  },
  {
   "cell_type": "code",
   "execution_count": 44,
   "metadata": {},
   "outputs": [],
   "source": [
    "scores_1.sort()"
   ]
  },
  {
   "cell_type": "code",
   "execution_count": 45,
   "metadata": {},
   "outputs": [
    {
     "data": {
      "text/plain": [
       "[5, 10, 20, 25, 40, 50, 50, 100, 120]"
      ]
     },
     "execution_count": 45,
     "metadata": {},
     "output_type": "execute_result"
    }
   ],
   "source": [
    "scores_1"
   ]
  },
  {
   "cell_type": "code",
   "execution_count": 57,
   "metadata": {},
   "outputs": [
    {
     "ename": "ModuleNotFoundError",
     "evalue": "No module named 'pandas'",
     "output_type": "error",
     "traceback": [
      "\u001b[1;31m---------------------------------------------------------------------------\u001b[0m",
      "\u001b[1;31mModuleNotFoundError\u001b[0m                       Traceback (most recent call last)",
      "\u001b[1;32m<ipython-input-57-9e0fa8cb237f>\u001b[0m in \u001b[0;36m<module>\u001b[1;34m()\u001b[0m\n\u001b[0;32m      1\u001b[0m \u001b[1;33m\u001b[0m\u001b[0m\n\u001b[1;32m----> 2\u001b[1;33m \u001b[1;32mimport\u001b[0m \u001b[0mpandas\u001b[0m \u001b[1;32mas\u001b[0m \u001b[0mpd\u001b[0m\u001b[1;33m\u001b[0m\u001b[1;33m\u001b[0m\u001b[0m\n\u001b[0m",
      "\u001b[1;31mModuleNotFoundError\u001b[0m: No module named 'pandas'"
     ]
    }
   ],
   "source": [
    "\n",
    "import pandas as pd"
   ]
  },
  {
   "cell_type": "code",
   "execution_count": null,
   "metadata": {},
   "outputs": [],
   "source": [
    "for i in alice:\n",
    "        scores_1=list(set(scores))\n",
    "        scores_1.append(i)\n",
    "        result=scores_1.rank(method='dense', ascending=False)\n",
    "    return result"
   ]
  },
  {
   "cell_type": "code",
   "execution_count": null,
   "metadata": {},
   "outputs": [],
   "source": []
  },
  {
   "cell_type": "code",
   "execution_count": null,
   "metadata": {},
   "outputs": [],
   "source": []
  },
  {
   "cell_type": "code",
   "execution_count": null,
   "metadata": {},
   "outputs": [],
   "source": []
  },
  {
   "cell_type": "code",
   "execution_count": null,
   "metadata": {},
   "outputs": [],
   "source": []
  }
 ],
 "metadata": {
  "kernelspec": {
   "display_name": "Python 3",
   "language": "python",
   "name": "python3"
  },
  "language_info": {
   "codemirror_mode": {
    "name": "ipython",
    "version": 3
   },
   "file_extension": ".py",
   "mimetype": "text/x-python",
   "name": "python",
   "nbconvert_exporter": "python",
   "pygments_lexer": "ipython3",
   "version": "3.7.4"
  }
 },
 "nbformat": 4,
 "nbformat_minor": 2
}
