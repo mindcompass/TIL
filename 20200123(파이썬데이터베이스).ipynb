{
 "cells": [
  {
   "cell_type": "code",
   "execution_count": 4,
   "metadata": {},
   "outputs": [],
   "source": [
    "import pymysql\n",
    "\n",
    "conn = pymysql.connect(\n",
    "    host='localhost', user ='root', password='1234', \n",
    "    db= 'python', charset='utf8')\n",
    "cursor = conn.cursor() #cursor 객체 생성(열심히 일하는 녀석)\n",
    "\n",
    "sql = '''CREATE TABLE mysql (\n",
    "            id INTEGER PRIMARY KEY AUTO_INCREMENT\n",
    "            ,title VARCHAR(100), content VARCHAR(100))'''\n",
    "cursor.execute(sql) #SQL 실행\n",
    "\n",
    "conn.commit() #저장\n",
    "\n",
    "cursor.close() #close\n",
    "\n",
    "conn.close()"
   ]
  },
  {
   "cell_type": "code",
   "execution_count": 9,
   "metadata": {},
   "outputs": [
    {
     "name": "stdout",
     "output_type": "stream",
     "text": [
      "예외 발생 e\n"
     ]
    }
   ],
   "source": [
    "import pymysql\n",
    "\n",
    "try:\n",
    "    conn = pymysql.connect(\n",
    "        host='localhost', user ='root', password='1234', \n",
    "        db= 'pythom', charset='utf8')\n",
    "    \n",
    "    cursor = conn.cursor() #cursor 객체 생성\n",
    "\n",
    "    sql = '''CREATE TABLE mysql (\n",
    "                id INTEGER PRIMARY KEY AUTO_INCREMENT\n",
    "                ,title VARCHAR(100), content VARCHAR(100))'''\n",
    "    cursor.execute(sql) #SQL 실행\n",
    "\n",
    "    conn.commit() #저장\n",
    "\n",
    "    cursor.close() #close\n",
    "    conn.close()\n",
    "except pymysql.InternalError as e :\n",
    "    print('예외 발생','e')\n"
   ]
  },
  {
   "cell_type": "code",
   "execution_count": 18,
   "metadata": {},
   "outputs": [],
   "source": [
    "import pymysql\n",
    "\n",
    "conn=None\n",
    "\n",
    "try:\n",
    "    conn = pymysql.connect(\n",
    "        host='localhost', user ='root', password='1234', \n",
    "        db= 'python', charset='utf8')\n",
    "    \n",
    "    with conn.cursor()as cursor :\n",
    "        sql = '''CREATE TABLE mysql (\n",
    "                ID INTEGER PRIMARY KEY AUTO_INCREMENT\n",
    "                ,title VARCHAR(100), content VARCHAR(100))'''\n",
    "        cursor.execute(sql) #SQL 실행\n",
    "\n",
    "        conn.commit() #저장\n",
    "\n",
    "#     cursor.close() #close 사제\n",
    "except pymysql.InternalError as e :\n",
    "    print('예외 발생','e')\n",
    "finally:\n",
    "#     if conn:\n",
    "        conn.close()"
   ]
  },
  {
   "cell_type": "code",
   "execution_count": 26,
   "metadata": {},
   "outputs": [],
   "source": [
    "import pymysql\n",
    "\n",
    "conn = pymysql.connect(\n",
    "    host='localhost', user ='root', password='1234', \n",
    "    db= 'python', charset='utf8')\n",
    "cursor = conn.cursor() #cursor 객체 생성(열심히 일하는 녀석)\n",
    "\n",
    "sql = '''INSERT INTO mysql (id, title, content) VALUES (null, %s, %s)''' #placeholer 라고 부름\n",
    "cursor.execute(sql, ('제목', '내용')) #SQL 실행\n",
    "\n",
    "conn.commit() #저장\n",
    "\n",
    "cursor.close() #close\n",
    "\n",
    "conn.close()\n"
   ]
  },
  {
   "cell_type": "code",
   "execution_count": 22,
   "metadata": {},
   "outputs": [],
   "source": [
    "import pymysql\n",
    "\n",
    "conn = pymysql.connect(\n",
    "    host='localhost', user ='root', password='1234', \n",
    "    db= 'python', charset='utf8')\n",
    "cursor = conn.cursor() #cursor 객체 생성(열심히 일하는 녀석)\n",
    "\n",
    "sql = '''UPDATE mysql set TITLE =%s\n",
    "            WHERE ID=%s''' #placeholer 라고 부름\n",
    "cursor.execute(sql, ('제목수정됨', 1)) #SQL 실행\n",
    "\n",
    "conn.commit() #저장\n",
    "\n",
    "cursor.close() #close\n",
    "\n",
    "conn.close()\n"
   ]
  },
  {
   "cell_type": "code",
   "execution_count": 23,
   "metadata": {},
   "outputs": [],
   "source": [
    "import pymysql\n",
    "\n",
    "conn = pymysql.connect(\n",
    "    host='localhost', user ='root', password='1234', \n",
    "    db= 'python', charset='utf8')\n",
    "cursor = conn.cursor() #cursor 객체 생성(열심히 일하는 녀석)\n",
    "\n",
    "sql = '''DELETE FROM mysql WHERE id = %s''' #placeholer 라고 부름\n",
    "cursor.execute(sql, (2)) #SQL 실행\n",
    "\n",
    "conn.commit() #저장\n",
    "\n",
    "cursor.close() #close\n",
    "\n",
    "conn.close()\n"
   ]
  },
  {
   "cell_type": "code",
   "execution_count": 33,
   "metadata": {},
   "outputs": [
    {
     "name": "stdout",
     "output_type": "stream",
     "text": [
      "(1, '제목수정됨', '내용') <class 'tuple'>\n"
     ]
    }
   ],
   "source": [
    "import pymysql\n",
    "\n",
    "conn = pymysql.connect(\n",
    "    host='localhost', user ='root', password='1234', \n",
    "    db= 'python', charset='utf8')\n",
    "cursor = conn.cursor() #cursor 객체 생성(열심히 일하는 녀석)\n",
    "\n",
    "sql = '''SELECT id, title, content FROM mysql''' #placeholer 라고 부름\n",
    "cursor.execute(sql)#SQL 실행\n",
    "\n",
    "result = cursor.fetchone()\n",
    "# for row in result:\n",
    "# print(row, type(row))\n",
    "print(result, type(result))\n",
    "# print(result[0])\n",
    "# print(result[0][1])\n",
    "conn.commit() #저장\n",
    "\n",
    "cursor.close() #close\n",
    "\n",
    "conn.close()"
   ]
  },
  {
   "cell_type": "code",
   "execution_count": 36,
   "metadata": {},
   "outputs": [],
   "source": [
    "dd"
   ]
  },
  {
   "cell_type": "code",
   "execution_count": 37,
   "metadata": {},
   "outputs": [],
   "source": [
    "#연습문제1\n",
    "import pymysql\n",
    "\n",
    "conn = pymysql.connect(\n",
    "     host='localhost', user='root', password='1234',\n",
    "     db='pythondb', charset='utf8')\n",
    "\n",
    "cursor = conn.cursor() #cursor 객체 생성(열심히 일하는 녀석)\n",
    "\n",
    "\n",
    "\n",
    "\n",
    "\n",
    "sql = '''CREATE TABLE member (\n",
    "             NUM INTEGER PRIMARY KEY AUTO_INCREMENT\n",
    "             ,NAME VARCHAR(30)\n",
    "             ,EMAIL VARCHAR(30)\n",
    "            ,C_DATE DATETIME)'''\n",
    "cursor.execute(sql) #SQL 실행\n",
    "\n",
    "conn.commit() #저장\n",
    "\n",
    "cursor.close() #close\n",
    "\n",
    "conn.close()"
   ]
  },
  {
   "cell_type": "code",
   "execution_count": 38,
   "metadata": {},
   "outputs": [],
   "source": [
    "#연습문제2\n",
    "import pymysql\n",
    "\n",
    "conn = pymysql.connect(\n",
    "     host='localhost', user='root', password='1234',\n",
    "     db='pythondb', charset='utf8')\n",
    "\n",
    "cursor = conn.cursor() #cursor 객체 생성(열심히 일하는 녀석)\n",
    "\n",
    "\n",
    "\n",
    "\n",
    "\n",
    "sql = '''CREATE TABLE article (\n",
    "             ID INTEGER PRIMARY KEY AUTO_INCREMENT\n",
    "             ,TITLE VARCHAR(30)\n",
    "             ,CONTENT VARCHAR(30)\n",
    "             ,WRITER VARCHAR(30)\n",
    "             ,HIT INT\n",
    "            ,C_DATE DATETIME)'''\n",
    "cursor.execute(sql) #SQL 실행\n",
    "\n",
    "conn.commit() #저장\n",
    "\n",
    "cursor.close() #close\n",
    "\n",
    "conn.close()"
   ]
  },
  {
   "cell_type": "code",
   "execution_count": null,
   "metadata": {},
   "outputs": [],
   "source": []
  }
 ],
 "metadata": {
  "kernelspec": {
   "display_name": "Python 3",
   "language": "python",
   "name": "python3"
  },
  "language_info": {
   "codemirror_mode": {
    "name": "ipython",
    "version": 3
   },
   "file_extension": ".py",
   "mimetype": "text/x-python",
   "name": "python",
   "nbconvert_exporter": "python",
   "pygments_lexer": "ipython3",
   "version": "3.7.4"
  }
 },
 "nbformat": 4,
 "nbformat_minor": 2
}
