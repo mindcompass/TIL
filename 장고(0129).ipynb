{
 "cells": [
  {
   "cell_type": "code",
   "execution_count": 25,
   "metadata": {},
   "outputs": [
    {
     "name": "stdout",
     "output_type": "stream",
     "text": [
      "[100, 50, 40, 20, 10, 5]\n",
      "[100, 50, 40, 25]\n",
      "[100, 50]\n",
      "[120]\n"
     ]
    }
   ],
   "source": [
    "scores=[100,100,50,40,40,20,10]\n",
    "alice=[5,25,50,120]\n",
    "\n",
    "result=list()\n",
    "scores_1=list(set(scores))\n",
    "for i in alice:\n",
    "    scores_1.append(i)\n",
    "    scores_1.sort(reverse=True)\n",
    "    result.append(scores_1.index(i)+1)\n",
    "    scores_1=scores_1[:result[-1]]\n",
    "    print(scores_1)\n"
   ]
  }
 ],
 "metadata": {
  "kernelspec": {
   "display_name": "Python 3",
   "language": "python",
   "name": "python3"
  },
  "language_info": {
   "codemirror_mode": {
    "name": "ipython",
    "version": 3
   },
   "file_extension": ".py",
   "mimetype": "text/x-python",
   "name": "python",
   "nbconvert_exporter": "python",
   "pygments_lexer": "ipython3",
   "version": "3.7.4"
  }
 },
 "nbformat": 4,
 "nbformat_minor": 2
}
